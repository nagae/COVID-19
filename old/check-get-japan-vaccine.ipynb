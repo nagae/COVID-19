{
 "cells": [
  {
   "cell_type": "code",
   "execution_count": 6,
   "id": "76127766-8ef8-45ca-9188-ad4fb3254f91",
   "metadata": {},
   "outputs": [],
   "source": [
    "#!/usr/bin/env python3\n",
    "# -*- coding: utf-8 -*-\n",
    "import numpy as np\n",
    "import pandas as pd\n",
    "import datetime as dt\n",
    "from itertools import product\n",
    "import re\n",
    "# 新しいデータを取得\n",
    "url = \"https://www.kantei.go.jp/jp/content/nenreikaikyubetsu-vaccination_data.xlsx\"\n",
    "#df_ratio = pd.read_excel(url, sheet_name=\"様式\", header=3, index_col=0).iloc[:2,:]\n",
    "latest_date = pd.read_excel(url, sheet_name=\"全国\", header=None, index_col=None).iat[2,11]\n",
    "df_num = pd.read_excel(url, sheet_name=\"全国\", header=8, index_col=0).iloc[:3,:].astype(int)\n",
    "latest_dt = dt.datetime(dt.datetime.today().year, *np.array(re.search(\"(\\d+)月(\\d+)日\", latest_date).groups()).astype(int))\n",
    "latest_dt_str = latest_dt.strftime(\"%Y/%m/%d\")\n",
    "ndf = pd.DataFrame(df_num.values.T.reshape(1,df_num.values.size),columns=pd.MultiIndex.from_tuples(product(df_num.columns,df_num.index)), index=[latest_dt_str]).astype(int)\n",
    "# 既存のデータを取得\n",
    "data_fname = \"data/CoVid19-Japan-vaccine_by_age.csv\"\n",
    "orig_df = pd.read_csv(data_fname, index_col=0, header=[0,1])\n",
    "# 新データの日付が既存データに含まれていなかったら，データを追加してファイルを更新\n",
    "if latest_dt_str not in orig_df.index:\n",
    "    df = pd.concat([ndf, orig_df])\n",
    "    df.to_csv(data_fname)\n"
   ]
  },
  {
   "cell_type": "code",
   "execution_count": 5,
   "id": "bf3b0b77-2281-41f9-8c8f-7e41b981aa5c",
   "metadata": {},
   "outputs": [
    {
     "name": "stdout",
     "output_type": "stream",
     "text": [
      "Defaulting to user installation because normal site-packages is not writeable\n",
      "Collecting openpyxl\n",
      "  Using cached openpyxl-3.0.9-py2.py3-none-any.whl (242 kB)\n",
      "Collecting et-xmlfile\n",
      "  Using cached et_xmlfile-1.1.0-py3-none-any.whl (4.7 kB)\n",
      "Installing collected packages: et-xmlfile, openpyxl\n",
      "Successfully installed et-xmlfile-1.1.0 openpyxl-3.0.9\n",
      "Note: you may need to restart the kernel to use updated packages.\n"
     ]
    }
   ],
   "source": [
    "%pip install openpyxl"
   ]
  },
  {
   "cell_type": "code",
   "execution_count": null,
   "id": "78749bb3-ffa8-4e80-8d75-74bf036c2cbf",
   "metadata": {},
   "outputs": [],
   "source": []
  }
 ],
 "metadata": {
  "kernelspec": {
   "display_name": "Python 3 (ipykernel)",
   "language": "python",
   "name": "python3"
  },
  "language_info": {
   "codemirror_mode": {
    "name": "ipython",
    "version": 3
   },
   "file_extension": ".py",
   "mimetype": "text/x-python",
   "name": "python",
   "nbconvert_exporter": "python",
   "pygments_lexer": "ipython3",
   "version": "3.8.12"
  }
 },
 "nbformat": 4,
 "nbformat_minor": 5
}
