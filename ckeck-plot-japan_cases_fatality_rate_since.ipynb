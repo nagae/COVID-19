{
 "cells": [
  {
   "cell_type": "code",
   "execution_count": 37,
   "id": "baca0f64-5fcc-4cd9-a93a-541b5f1e311a",
   "metadata": {},
   "outputs": [],
   "source": [
    "# ある日以降の陽性数に対する死亡数をプロットする\n",
    "import numpy as np\n",
    "import pandas as pd\n",
    "from matplotlib import pyplot as plt, dates as mdates\n",
    "import japanize_matplotlib\n",
    "import datetime as dt\n",
    "# 県名の英語/日本語対応\n",
    "EN_pref = ['ALL', 'Hokkaido', 'Aomori', 'Iwate', 'Miyagi', 'Akita', 'Yamagata', 'Fukushima', 'Ibaraki', 'Tochigi', 'Gunma', 'Saitama', 'Chiba', 'Tokyo', 'Kanagawa', 'Niigata', 'Toyama', 'Ishikawa', 'Fukui', 'Yamanashi', 'Nagano', 'Gifu', 'Shizuoka', 'Aichi', 'Mie', \n",
    "           'Shiga', 'Kyoto', 'Osaka', 'Hyogo', 'Nara','Wakayama','Tottori', 'Shimane', 'Okayama', 'Hiroshima', 'Yamaguchi', 'Tokushima', 'Kagawa', 'Ehime', 'Kochi', 'Fukuoka', 'Saga', 'Nagasaki', 'Kumamoto', 'Oita', 'Miyazaki','Kagoshima','Okinawa']\n",
    "JP_pref = [\"全国\", '北海道', '青森県', '岩手県', '宮城県', '秋田県', '山形県', '福島県', '茨城県', '栃木県', '群馬県', '埼玉県', '千葉県', '東京都', '神奈川県', '新潟県', '富山県', '石川県', '福井県', '山梨県', '長野県',  '岐阜県', '静岡県', '愛知県', '三重県',\n",
    "           '滋賀県', '京都府', '大阪府', '兵庫県', '奈良県', '和歌山県', '鳥取県', '島根県', '岡山県', '広島県', '山口県', '徳島県', '香川県', '愛媛県', '高知県', '福岡県', '佐賀県', '長崎県', '熊本県', '大分県', '宮崎県', '鹿児島県', '沖縄県'] \n",
    "regions = {'北海道・東北':['Hokkaido', 'Aomori', 'Akita', 'Iwate', 'Miyagi', 'Yamagata', 'Fukushima'],\n",
    "           '関東':['Tokyo', 'Ibaraki', 'Tochigi', 'Gunma', 'Saitama', 'Chiba', 'Kanagawa'],\n",
    "           '北陸・中部':['Niigata', 'Toyama', 'Ishikawa', 'Fukui','Yamanashi', 'Nagano', 'Gifu', 'Shizuoka', 'Aichi'],\n",
    "           '近畿':['Kyoto', 'Osaka', 'Mie', 'Shiga', 'Hyogo', 'Nara', 'Wakayama'],\n",
    "           '中国':['Tottori', 'Shimane', 'Okayama', 'Hiroshima', 'Yamaguchi'],\n",
    "           '四国':['Tokushima', 'Kagawa', 'Ehime', 'Kochi'],\n",
    "           '九州・沖縄':['Fukuoka', 'Saga', 'Nagasaki', 'Oita', 'Kumamoto', 'Miyazaki', 'Kagoshima', 'Okinawa']}\n",
    "JP_pref_of = dict(zip(EN_pref, JP_pref))\n",
    "# 厚労省CSVを読込む\n",
    "# 新規感染者\n",
    "new_case = pd.read_csv('https://covid19.mhlw.go.jp/public/opendata/newly_confirmed_cases_daily.csv')\n",
    "new_case[\"Date\"] = pd.to_datetime(new_case[\"Date\"])\n",
    "new_case = new_case.set_index(\"Date\")\n",
    "# 累積死亡者\n",
    "total_death = pd.read_csv(\"https://covid19.mhlw.go.jp/public/opendata/deaths_cumulative_daily.csv\")\n",
    "total_death[\"Date\"] = pd.to_datetime(total_death[\"Date\"])\n",
    "total_death = total_death.set_index(\"Date\")\n",
    "new_death = total_death.diff()\n",
    "new_death.iloc[0] = total_death.iloc[0]\n",
    "new_death = new_death.astype(int)\n",
    "nc_since = new_case[::-1].cumsum()[::-1]\n",
    "nd_since = new_death[::-1].cumsum()[::-1]"
   ]
  },
  {
   "cell_type": "code",
   "execution_count": 77,
   "id": "c0a873e0-2eeb-4e9a-a447-3b9b03bd79e3",
   "metadata": {},
   "outputs": [],
   "source": [
    "CFR = (nd_since/nc_since).rolling(7).mean().dropna()*1e6"
   ]
  },
  {
   "cell_type": "code",
   "execution_count": null,
   "id": "ee35aea9-6231-4ff3-91ff-dc48831de4b6",
   "metadata": {},
   "outputs": [],
   "source": [
    "fig, axs = plt.subplots(4,2,figsize=(8*2,6*4))\n",
    "axs = axs.flatten()\n",
    "for rid in range(len(regions)+1):\n",
    "    ax = axs[rid]\n",
    "    if rid == 0:\n",
    "        CFR[\"ALL\"].plot(ax=ax, label=JP_pref_of[\"ALL\"])\n",
    "        ax.set_ylabel(\"ある日以降の陽性者数100万人あたりの死亡者数\")\n",
    "    else:\n",
    "        region_name = list(regions.keys())[rid-1]\n",
    "        region_df = CFR[regions[region_name]]\n",
    "        region_df.columns = [JP_pref_of[p] for p in regions[region_name]]\n",
    "        region_df.plot(ax=ax)\n",
    "    ax.set_ylim(axs[0].get_ylim())\n",
    "#    ax.set_yscale('log')\n",
    "    ax.set_xlabel(\"\")\n",
    "    ax.legend(loc='lower left')\n",
    "    ax.xaxis.set_major_locator(mdates.MonthLocator()) # 主目盛りを月ごとに設定\n",
    "    ax.xaxis.set_major_formatter(mdates.DateFormatter(\"%y %b\")) # 主目盛りの表示を英語の月名短縮形にする\n",
    "    ax.grid(which='major', axis='x', linestyle='-', color='tab:cyan', alpha=0.5) # 主目盛りのグリッドを水色にして，半透明にする\n",
    "#    ax.set_yticks([1e-4,5e-4,1e-3,5e-3,1e-2], minor=False)\n",
    "#    ax.set_yticklabels([5e-5,1e-4,5e-4,1e-3,5e-3,1e-2])\n",
    "    ax.grid(which='major', axis='y', linestyle='--', color='tab:gray', alpha=0.5) # 主目盛りのグリッドを水色にして，半透明にする\n",
    "    plt.setp(ax.get_xticklabels(which='major'), rotation=90)\n",
    "plt.savefig('fig/CoVid19-Japan-case_fatility_rate_by_area.png', bbox_inches='tight')\n",
    "plt.show()"
   ]
  },
  {
   "cell_type": "code",
   "execution_count": null,
   "id": "7184b647-1ae2-4bfe-ac2b-3bf89aeaa816",
   "metadata": {},
   "outputs": [],
   "source": []
  }
 ],
 "metadata": {
  "kernelspec": {
   "display_name": "Python 3 (ipykernel)",
   "language": "python",
   "name": "python3"
  },
  "language_info": {
   "codemirror_mode": {
    "name": "ipython",
    "version": 3
   },
   "file_extension": ".py",
   "mimetype": "text/x-python",
   "name": "python",
   "nbconvert_exporter": "python",
   "pygments_lexer": "ipython3",
   "version": "3.8.12"
  }
 },
 "nbformat": 4,
 "nbformat_minor": 5
}
